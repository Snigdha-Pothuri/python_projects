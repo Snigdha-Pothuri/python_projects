{
  "nbformat": 4,
  "nbformat_minor": 0,
  "metadata": {
    "colab": {
      "name": "project-110.ipynb",
      "provenance": [],
      "collapsed_sections": [],
      "authorship_tag": "ABX9TyOeXXDC+psl5VsMu1tZinNC",
      "include_colab_link": true
    },
    "kernelspec": {
      "name": "python3",
      "display_name": "Python 3"
    },
    "language_info": {
      "name": "python"
    }
  },
  "cells": [
    {
      "cell_type": "markdown",
      "metadata": {
        "id": "view-in-github",
        "colab_type": "text"
      },
      "source": [
        "<a href=\"https://colab.research.google.com/github/Snigdha-Pothuri/python_projects/blob/main/project_110.ipynb\" target=\"_parent\"><img src=\"https://colab.research.google.com/assets/colab-badge.svg\" alt=\"Open In Colab\"/></a>"
      ]
    },
    {
      "cell_type": "code",
      "metadata": {
        "id": "J6zqfyh1mUiP"
      },
      "source": [
        "import csv\n",
        "import statistics \n",
        "import plotly.figure_factory as ff\n",
        "import pandas as pd \n",
        "import random \n",
        "df=pd.read_csv(\"data.csv\")\n",
        "data=df[\"temp\"].tolist()\n",
        "mean=statistics.mean(data)\n",
        "std=statistics.stdev(data) \n",
        "print(mean)\n",
        "print(std) \n",
        "figure=ff.create_distplot([data],[\"temperature\"],show_hist=False)\n",
        "figure.show()\n",
        "def randomsetofmean(counter):\n",
        "  dataset=[]\n",
        "  for i in range(0,counter):\n",
        "    random_index=random.randint(0,len(data)-1)\n",
        "    value=data[random_index]\n",
        "    dataset.append(value)\n",
        "  mean1=statistics.mean(dataset)\n",
        "  return mean1\n",
        "def showfigure(meanlist):\n",
        "  df=meanlist\n",
        "  figure1=ff.create_distplot([df],[\"Medium Articles\"],show_hist=False)\n",
        "  figure1.show()\n",
        "def setUp():\n",
        "  meanlist=[]\n",
        "  for i in range(0,1000):\n",
        "    setofmeans=randomsetofmean(100)\n",
        "    meanlist.append(setofmeans)\n",
        "  showfigure(meanlist)\n",
        "  meanofsamples=statistics.mean(meanlist)\n",
        "  std2=statistics.stdev(meanlist)\n",
        "  print(meanofsamples,std2)\n",
        "setUp()\n",
        "print(mean,std)"
      ],
      "execution_count": null,
      "outputs": []
    }
  ]
}